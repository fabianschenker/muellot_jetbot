{
 "cells": [
  {
   "cell_type": "code",
   "execution_count": null,
   "outputs": [],
   "source": [
    "import sys\n",
    "import os\n",
    "sys.path.append(os.path.abspath(\"/workspace/muellot_jetbot/jetbot\"))\n",
    "\n",
    "import time"
   ],
   "metadata": {
    "collapsed": false
   }
  },
  {
   "cell_type": "markdown",
   "source": [
    "# Basic Motion\n",
    "\n",
    "## Importing Robot2 class\n",
    "\n",
    "Execute the following block of code by selecting it and clicking ctrl + enter to create an NvidiaRacecar class."
   ],
   "metadata": {
    "collapsed": false
   }
  },
  {
   "cell_type": "code",
   "execution_count": null,
   "outputs": [],
   "source": [
    "from robot2 import Robot2\n",
    "\n",
    "car = Robot2()"
   ],
   "metadata": {
    "collapsed": false
   }
  },
  {
   "cell_type": "markdown",
   "source": [
    "The Robot2 implements the Motors class, so it has two attributes throttle and steering.\n",
    "\n",
    "We can assign values in the range [-1, 1] to these attributes. Execute the following to set the steering to 0.4."
   ],
   "metadata": {
    "collapsed": false
   }
  },
  {
   "cell_type": "code",
   "execution_count": null,
   "outputs": [],
   "source": [
    "car.steering = 0.3"
   ],
   "metadata": {
    "collapsed": false
   }
  },
  {
   "cell_type": "markdown",
   "source": [
    "The NvidiaRacecar class has two values steering_gain and steering_bias that can be used to calibrate the steering.\n",
    "\n",
    "We can view the default values by executing the cells below."
   ],
   "metadata": {
    "collapsed": false
   }
  },
  {
   "cell_type": "code",
   "execution_count": null,
   "outputs": [],
   "source": [
    "print(car.steering_gain)"
   ],
   "metadata": {
    "collapsed": false
   }
  },
  {
   "cell_type": "code",
   "execution_count": null,
   "outputs": [],
   "source": [
    "print(car.steering_offset)"
   ],
   "metadata": {
    "collapsed": false
   }
  },
  {
   "cell_type": "markdown",
   "source": [
    "The final steering value is computed using the equation\n",
    "\n",
    "y = a * x + b\n",
    "\n",
    "Where,\n",
    "\n",
    "a is car.steering_gain\n",
    "b is car.steering_offset\n",
    "x is car.steering\n",
    "y is the value written to the motor driver\n",
    "\n",
    "You can adjust these values calibrate the car so that setting a value of 0 moves forward, and setting a value of 1 goes fully right, and -1 fully left.\n",
    "\n",
    "To set the throttle of the car to 0.2, you can call the following.\n",
    "\n",
    "Give JetRacer lots of space to move, and be ready on the manual override, JetRacer is fast"
   ],
   "metadata": {
    "collapsed": false
   }
  },
  {
   "cell_type": "code",
   "execution_count": null,
   "outputs": [],
   "source": [
    "car.throttle = 0.0"
   ],
   "metadata": {
    "collapsed": false
   }
  },
  {
   "cell_type": "markdown",
   "source": [
    "The throttle also has a gain value that could be used to control the speed response. The throttle output is computed as\n",
    "y = a * x\n",
    "Where,\n",
    "\n",
    "a is car.throttle_gain\n",
    "x is car.throttle\n",
    "y is the value written to the speed controller\n",
    "Execute the following to print the default gain"
   ],
   "metadata": {
    "collapsed": false
   }
  },
  {
   "cell_type": "code",
   "execution_count": null,
   "outputs": [],
   "source": [
    "print(car.throttle_gain)"
   ],
   "metadata": {
    "collapsed": false
   }
  },
  {
   "cell_type": "markdown",
   "source": [
    "Set the following to limit the throttle to half"
   ],
   "metadata": {
    "collapsed": false
   }
  },
  {
   "cell_type": "code",
   "execution_count": null,
   "outputs": [],
   "source": [
    "car.throttle_gain = 0.5"
   ],
   "metadata": {
    "collapsed": false
   }
  },
  {
   "cell_type": "markdown",
   "source": [
    "Please note the throttle is directly mapped to the RC car. When the car is stopped and a negative throttle is set, it will reverse. If the car is moving forward and a negative throttle is set, it will brake."
   ],
   "metadata": {
    "collapsed": false
   }
  },
  {
   "cell_type": "markdown",
   "source": [
    "## Link motors to traitlets\n",
    "A really cool feature about these traitlets is that we can also link them to other traitlets! This is super handy because Jupyter Notebooks allow us to make graphical widgets that use traitlets under the hood. This means we can attach our motors to widgets to control them from the browser, or just visualize the value.\n",
    "\n",
    "To show how to do this, let's create and display two sliders that we'll use to control our motors."
   ],
   "metadata": {
    "collapsed": false
   }
  },
  {
   "cell_type": "code",
   "execution_count": 1,
   "outputs": [
    {
     "data": {
      "text/plain": "HBox(children=(FloatSlider(value=0.0, description='left', max=1.0, min=-1.0, orientation='vertical', step=0.01…",
      "application/vnd.jupyter.widget-view+json": {
       "version_major": 2,
       "version_minor": 0,
       "model_id": "6cddc0295f90456490163301eb5c5671"
      }
     },
     "metadata": {},
     "output_type": "display_data"
    }
   ],
   "source": [
    "import ipywidgets.widgets as widgets\n",
    "from IPython.display import display\n",
    "\n",
    "# create two sliders with range [-1.0, 1.0]\n",
    "throttle_slider = widgets.FloatSlider(description='left', min=-1.0, max=1.0, step=0.01, orientation='vertical')\n",
    "steering_slider = widgets.FloatSlider(description='right', min=-1.0, max=1.0, step=0.01, orientation='horizontal')\n",
    "\n",
    "# create a horizontal box container to place the sliders next to each other\n",
    "slider_container = widgets.HBox([throttle_slider, steering_slider])\n",
    "\n",
    "# display the container in this cell's output\n",
    "display(slider_container)"
   ],
   "metadata": {
    "collapsed": false
   }
  },
  {
   "cell_type": "markdown",
   "source": [
    "You should see two vertical sliders displayed above.\n",
    "\n",
    "HELPFUL TIP: In Jupyter Lab, you can actually \"pop\" the output of cells into entirely separate window! It will still be connected to the notebook, but displayed separately. This is helpful if we want to pin the output of code we executed elsewhere. To do this, right click the output of the cell and select Create New View for Output. You can then drag the new window to a location you find pleasing.\n",
    "\n",
    "Try clicking and dragging the sliders up and down. Notice nothing happens when we move the sliders currently. That's because we haven't connected them to motors yet! We'll do that by using the link function from the traitlets package."
   ],
   "metadata": {
    "collapsed": false
   }
  },
  {
   "cell_type": "code",
   "execution_count": null,
   "outputs": [],
   "source": [
    "import traitlets\n",
    "\n",
    "throttle_link = traitlets.link((throttle_slider, 'value'), (car, 'throttle'))\n",
    "steering_link = traitlets.link((steering_slider, 'value'), (car, 'steering'))"
   ],
   "metadata": {
    "collapsed": false
   }
  },
  {
   "cell_type": "markdown",
   "source": [
    "## Attach functions to events\n",
    "Another way to use traitlets, is by attaching functions (like forward) to events. These functions will get called whenever a change to the object occurs, and will be passed some information about that change like the old value and the new value.\n",
    "\n",
    "Let's create and display some buttons that we'll use to control the robot."
   ],
   "metadata": {
    "collapsed": false
   }
  },
  {
   "cell_type": "code",
   "execution_count": null,
   "outputs": [],
   "source": [
    "# create buttons\n",
    "button_layout = widgets.Layout(width='100px', height='80px', align_self='center')\n",
    "stop_button = widgets.Button(description='stop', button_style='danger', layout=button_layout)\n",
    "forward_button = widgets.Button(description='forward', layout=button_layout)\n",
    "backward_button = widgets.Button(description='backward', layout=button_layout)\n",
    "left_button = widgets.Button(description='left', layout=button_layout)\n",
    "right_button = widgets.Button(description='right', layout=button_layout)\n",
    "\n",
    "# display buttons\n",
    "middle_box = widgets.HBox([left_button, stop_button, right_button], layout=widgets.Layout(align_self='center'))\n",
    "controls_box = widgets.VBox([forward_button, middle_box, backward_button])\n",
    "display(controls_box)"
   ],
   "metadata": {
    "collapsed": false
   }
  },
  {
   "cell_type": "markdown",
   "source": [
    "You should see a set of robot controls displayed above! But right now they wont do anything. To do that we'll need to create some functions that we'll attach to the button's on_click event."
   ],
   "metadata": {
    "collapsed": false
   }
  },
  {
   "cell_type": "code",
   "execution_count": null,
   "outputs": [],
   "source": [
    "def stop(change):\n",
    "    car.stop()\n",
    "\n",
    "def step_forward(change):\n",
    "    car.throttle(0.5)\n",
    "    car.steering(0.0)\n",
    "    time.sleep(0.5)\n",
    "    car.stop()\n",
    "\n",
    "def step_backward(change):\n",
    "    car.throttle(-0.5)\n",
    "    car.steering(0.0)\n",
    "    time.sleep(0.5)\n",
    "    car.stop()\n",
    "\n",
    "def step_left(change):\n",
    "    car.steering(-1.0)\n",
    "    time.sleep(0.5)\n",
    "    car.stop()\n",
    "\n",
    "def step_right(change):\n",
    "    car.steering(1.0)\n",
    "    time.sleep(0.5)\n",
    "    car.stop()"
   ],
   "metadata": {
    "collapsed": false
   }
  },
  {
   "cell_type": "markdown",
   "source": [
    "Now that we've defined the functions, let's attach them to the on-click events of each button"
   ],
   "metadata": {
    "collapsed": false
   }
  },
  {
   "cell_type": "code",
   "execution_count": null,
   "outputs": [],
   "source": [
    "# link buttons to actions\n",
    "stop_button.on_click(stop)\n",
    "forward_button.on_click(step_forward)\n",
    "backward_button.on_click(step_backward)\n",
    "left_button.on_click(step_left)\n",
    "right_button.on_click(step_right)"
   ],
   "metadata": {
    "collapsed": false
   }
  }
 ],
 "metadata": {
  "kernelspec": {
   "display_name": "Python 3",
   "language": "python",
   "name": "python3"
  },
  "language_info": {
   "codemirror_mode": {
    "name": "ipython",
    "version": 3
   },
   "file_extension": ".py",
   "mimetype": "text/x-python",
   "name": "python",
   "nbconvert_exporter": "python",
   "pygments_lexer": "ipython3",
   "version": "3.6.7"
  }
 },
 "nbformat": 4,
 "nbformat_minor": 2
}
