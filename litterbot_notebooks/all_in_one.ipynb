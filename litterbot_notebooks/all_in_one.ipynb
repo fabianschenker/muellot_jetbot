{
 "cells": [
  {
   "cell_type": "markdown",
   "id": "attempted-manhattan",
   "metadata": {},
   "source": [
    "# Litterbot\n",
    "\n",
    "Device von CPU auf GPU wechseln"
   ]
  },
  {
   "cell_type": "code",
   "execution_count": 1,
   "id": "running-extension",
   "metadata": {},
   "outputs": [],
   "source": [
    "import torch\n",
    "device = torch.device('cuda')"
   ]
  },
  {
   "cell_type": "markdown",
   "id": "burning-analysis",
   "metadata": {},
   "source": [
    "TRT optimierte Modelle laden.\n",
    "\n",
    "> WICHTIG: Modelle müssen zuerst mit den Notebooks zum Datensammeln und Trainieren erstellt werden. Die Modelle mit der Endung .pth müssen im gleichen Ordner sein, wie dieses Notebook"
   ]
  },
  {
   "cell_type": "code",
   "execution_count": 2,
   "id": "prepared-pocket",
   "metadata": {},
   "outputs": [
    {
     "data": {
      "text/plain": [
       "<All keys matched successfully>"
      ]
     },
     "execution_count": 2,
     "metadata": {},
     "output_type": "execute_result"
    }
   ],
   "source": [
    "from torch2trt import TRTModule\n",
    "\n",
    "model_trt = TRTModule()\n",
    "model_trt.load_state_dict(torch.load('best_steering_model_xy_trt.pth')) # well trained road following model\n",
    "\n",
    "model_trt_collision = TRTModule()\n",
    "model_trt_collision.load_state_dict(torch.load('best_collision_model_trt.pth')) # well trained collision avoidance model"
   ]
  },
  {
   "cell_type": "markdown",
   "id": "complex-blocking",
   "metadata": {},
   "source": [
    "### Pre-Processing Funktion\n",
    "1. Konvertieren von HWC-Layout zu CHW-Layout\n",
    "2. Normalisieren mit denselben Parametern wie beim Training (Kamera liefert Werte im Bereich [0, 255] und die beim Training geladenen Bilder im Bereich [0, 1], so dass um 255,0 skaliert werden muss.\n",
    "3. Übertragen der Daten vom CPU-Speicher in den GPU-Speicher.\n",
    "4. Hinzufügen einer Batch-Dimension"
   ]
  },
  {
   "cell_type": "code",
   "execution_count": 3,
   "id": "leading-stable",
   "metadata": {},
   "outputs": [],
   "source": [
    "import torchvision.transforms as transforms\n",
    "import torch.nn.functional as F\n",
    "import cv2\n",
    "import PIL.Image\n",
    "import numpy as np\n",
    "\n",
    "mean = torch.Tensor([0.485, 0.456, 0.406]).cuda().half()\n",
    "std = torch.Tensor([0.229, 0.224, 0.225]).cuda().half()\n",
    "\n",
    "def preprocess(image):\n",
    "    image = PIL.Image.fromarray(image)\n",
    "    image = transforms.functional.to_tensor(image).to(device).half()\n",
    "    image.sub_(mean[:, None, None]).div_(std[:, None, None])\n",
    "    return image[None, ...]"
   ]
  },
  {
   "cell_type": "markdown",
   "id": "distant-maker",
   "metadata": {},
   "source": [
    "Starten der Kamera und Erstellen der Roboter Instanz"
   ]
  },
  {
   "cell_type": "code",
   "execution_count": 4,
   "id": "random-pendant",
   "metadata": {},
   "outputs": [],
   "source": [
    "from jetbot import Camera, bgr8_to_jpeg\n",
    "import sys\n",
    "import os\n",
    "sys.path.append(os.path.abspath(\"/workspace/muellot_jetbot/jetbot\"))\n",
    "from robot2 import Robot2\n",
    "from gps_coord import GPS_coords\n",
    "\n",
    "camera = Camera.instance(width=224, height=224, fps=10)\n",
    "robot = Robot2()\n",
    "gps = GPS_coords()"
   ]
  },
  {
   "cell_type": "markdown",
   "id": "integral-rebel",
   "metadata": {},
   "source": [
    "### Kontrollinterface für den Roboter"
   ]
  },
  {
   "cell_type": "code",
   "execution_count": 5,
   "id": "short-collapse",
   "metadata": {},
   "outputs": [],
   "source": [
    "from IPython.display import display\n",
    "import traitlets\n",
    "from IPython.display import display\n",
    "from ipywidgets import Layout, Label\n",
    "import ipywidgets.widgets as widgets\n",
    "import smopy"
   ]
  },
  {
   "cell_type": "code",
   "execution_count": 6,
   "id": "pleased-crown",
   "metadata": {},
   "outputs": [],
   "source": [
    "lout=Layout(align_items='center', border='3px solid black', padding='3px')\n",
    "\n",
    "pos_button = widgets.Button(description='get Position')\n",
    "map_widget = widgets.Image()\n",
    "lat_widget = widgets.FloatText(value=0.0, description='Latitude :', disabled=True)\n",
    "lon_widget = widgets.FloatText(value=0.0, description='Longitude:', disabled=True)\n",
    "    \n",
    "def get_map(change):\n",
    "    gps.get_pos()\n",
    "    lat_widget.value = gps.lat\n",
    "    lon_widget.value = gps.lon\n",
    "    maps = smopy.Map((lat_widget.value,lon_widget.value), z=18)\n",
    "    x, y = maps.to_pixels(lat_widget.value,lon_widget.value)\n",
    "    ax = maps.show_mpl(figsize=(8, 6));\n",
    "    ax.plot(x, y, 'or', ms=10, mew=2);\n",
    "    fig = ax.figure\n",
    "    fig = fig.savefig('map.png')\n",
    "    file = open(\"map.png\", \"rb\")\n",
    "    image = file.read()\n",
    "    map_widget.value = image\n",
    "    \n",
    "pos_button.on_click(get_map)\n",
    "\n",
    "mapnum_widget = widgets.VBox([pos_button,lat_widget,lon_widget])\n",
    "mapshow_widget = widgets.HBox([mapnum_widget,map_widget], layout = Layout(align_items='center'))\n",
    "map_display_widget = widgets.VBox([mapshow_widget], layout = lout)"
   ]
  },
  {
   "cell_type": "code",
   "execution_count": 7,
   "id": "focused-printing",
   "metadata": {},
   "outputs": [
    {
     "data": {
      "text/plain": [
       "<traitlets.traitlets.directional_link at 0x7eb7412eb8>"
      ]
     },
     "execution_count": 7,
     "metadata": {},
     "output_type": "execute_result"
    }
   ],
   "source": [
    "image_widget = widgets.Image()\n",
    "traitlets.dlink((camera, 'value'), (image_widget, 'value'), transform=bgr8_to_jpeg)"
   ]
  },
  {
   "cell_type": "code",
   "execution_count": 8,
   "id": "painted-gateway",
   "metadata": {},
   "outputs": [],
   "source": [
    "button_layout = widgets.Layout(width='100px', height='80px', align_self='center')\n",
    "\n",
    "stop_button = widgets.Button(description='stop', button_style='warning', layout=button_layout)\n",
    "kill_button = widgets.Button(description='kill', button_style='danger', layout=button_layout)\n",
    "sk_buttons = widgets.HBox([stop_button, kill_button])\n",
    "\n",
    "state_widget = widgets.ToggleButtons(options=['Manu', 'Auto'], description='Operation', value='Manu')\n",
    "\n",
    "buttons_box = widgets.VBox([sk_buttons, state_widget], layout = lout)"
   ]
  },
  {
   "cell_type": "code",
   "execution_count": 9,
   "id": "humanitarian-colorado",
   "metadata": {},
   "outputs": [],
   "source": [
    "#Road Following sliders\n",
    "network_output_slider = widgets.FloatSlider(description='Network Output', min=-1.0, max=1.0, value=0, step=0.01, orientation='horizontal', disabled=False, layout={'width': '400px'})\n",
    "steering_gain_slider  = widgets.FloatSlider(description='Steering Gain', min=0.0, max=1.0, value=0.7, step=0.01, orientation='horizontal', layout={'width': '300px'})\n",
    "steering_dgain_slider = widgets.FloatSlider(description='Steering kd', min=0.0, max=0.5, step=0.001, value=0.06, orientation='horizontal', layout={'width': '300px'})\n",
    "steering_value_slider = widgets.FloatSlider(description='Steering', min=-1.0, max=1.0, value=0, step=0.01, orientation='horizontal', disabled=False, layout={'width': '400px'})\n",
    "throttle_slider = widgets.FloatSlider(description='Throttle', min=0.0, max=1.0, value=0.0, step=0.01, orientation='vertical')\n",
    "\n",
    "#Collision Avoidance sliders\n",
    "blocked_slider = widgets.FloatSlider(description='Blocked', min=0.0, max=1.0, orientation='horizontal')\n",
    "stopduration_slider= widgets.IntSlider(description='Time for Stop', min=1, max=1000, step=1, value=10, orientation='horizontal') \n",
    "blocked_threshold= widgets.FloatSlider(description='Blocked Threshold', min=0, max=1.0, step=0.01, value=0.8, orientation='horizontal')\n",
    "block_button = widgets.Button(description='free', button_style='success', disabled=True, layout=button_layout)"
   ]
  },
  {
   "cell_type": "code",
   "execution_count": 10,
   "id": "meaningful-geology",
   "metadata": {},
   "outputs": [],
   "source": [
    "steering_gain_link   = traitlets.link((steering_gain_slider, 'value'), (robot, 'steering_gain'))\n",
    "steering_value_link  = traitlets.link((steering_value_slider, 'value'), (robot, 'steering'))\n",
    "throttle_slider_link = traitlets.link((throttle_slider, 'value'), (robot, 'throttle'))"
   ]
  },
  {
   "cell_type": "code",
   "execution_count": 11,
   "id": "soviet-album",
   "metadata": {},
   "outputs": [],
   "source": [
    "roadF_widgets = widgets.VBox([Label('Road Following Sliders'),\n",
    "            network_output_slider,\n",
    "            steering_gain_slider,\n",
    "            steering_dgain_slider,\n",
    "            steering_value_slider], \n",
    "            layout = lout)\n",
    "\n",
    "roadC_widgets = widgets.VBox([Label('Collision Avoidance Sliders'),\n",
    "            blocked_slider,\n",
    "            stopduration_slider,\n",
    "            blocked_threshold],\n",
    "            layout = lout)\n",
    "\n",
    "roadFundC_widgets = widgets.HBox([roadF_widgets, throttle_slider, image_widget, block_button, roadC_widgets])\n",
    "\n",
    "auto_widgets = widgets.VBox([Label('Automatic Mode'), roadFundC_widgets], layout = lout)\n",
    "\n",
    "mcon_widgets = widgets.HBox([\n",
    "    steering_value_slider,\n",
    "    throttle_slider,\n",
    "    image_widget],\n",
    "    layout = lout)\n",
    "\n",
    "manu_widgets = widgets.VBox([Label('Manual Mode'), mcon_widgets], layout = lout) "
   ]
  },
  {
   "cell_type": "code",
   "execution_count": 12,
   "id": "nominated-france",
   "metadata": {},
   "outputs": [],
   "source": [
    "import cv2\n",
    "import math\n",
    "\n",
    "angle = 0.0\n",
    "angle_last = 0.0\n",
    "count_stops = 0\n",
    "go_on = 1\n",
    "stop_time = 10 # The number of frames to remain stopped\n",
    "x = 0.0\n",
    "y = 0.0\n",
    "speed_value = throttle_slider.value\n",
    "\n",
    "def execute(change):\n",
    "    global angle, angle_last, blocked_slider, robot, count_stops, stop_time, go_on, x, y, blocked_threshold\n",
    "    global speed_value, steer_gain, steer_dgain, steer_bias\n",
    "                \n",
    "    steer_gain = steering_gain_slider.value\n",
    "    steer_dgain = steering_dgain_slider.value\n",
    "       \n",
    "    image_preproc = preprocess(change['new']).to(device)\n",
    "     \n",
    "    #Collision Avoidance model:\n",
    "    \n",
    "    prob_blocked = float(F.softmax(model_trt_collision(image_preproc), dim=1).flatten()[0])\n",
    "    \n",
    "    blocked_slider.value = prob_blocked    \n",
    "    stop_time=stopduration_slider.value\n",
    "    \n",
    "    if go_on == 1:    \n",
    "        if prob_blocked > blocked_threshold.value: # threshold should be above 0.5\n",
    "            count_stops += 1\n",
    "            go_on = 2\n",
    "            block_button.button_style = 'danger'\n",
    "            block_button.description = 'blocked'\n",
    "        else:\n",
    "            #start of road following detection\n",
    "            block_button.button_style = 'success'\n",
    "            block_button.description = 'free'\n",
    "            go_on = 1\n",
    "            count_stops = 0\n",
    "            xy = model_trt(image_preproc).detach().float().cpu().numpy().flatten()        \n",
    "            x = xy[0]            \n",
    "            y = (0.5 - xy[1]) / 2.0\n",
    "            network_output_slider.value = x\n",
    "            speed_value = throttle_slider.value\n",
    "    else:\n",
    "        count_stops += 1\n",
    "        if count_stops < stop_time:\n",
    "            x = 0.0 #set x steering to zero\n",
    "            y = 0.0 #set y steering to zero\n",
    "            speed_value = 0 # set speed to zero\n",
    "        else:\n",
    "            go_on = 1\n",
    "            count_stops = 0\n",
    "            \n",
    "    \n",
    "    angle = math.atan2(x, y)        \n",
    "    pid = angle * steer_gain + (angle - angle_last) * steer_dgain\n",
    "    steering_value_slider.value = pid\n",
    "    angle_last = angle\n",
    "    robot.throttle = speed_value\n",
    "    robot.steering = max(min(steering_value_slider.value, 1.0), -1.0) \n",
    "\n",
    "execute({'new': camera.value}) # call the function once to initialize\n",
    "robot.stop()"
   ]
  },
  {
   "cell_type": "code",
   "execution_count": 13,
   "id": "appointed-spokesman",
   "metadata": {},
   "outputs": [
    {
     "data": {
      "application/vnd.jupyter.widget-view+json": {
       "model_id": "de4e6a7c371f4933940c1d2ffc0e63f2",
       "version_major": 2,
       "version_minor": 0
      },
      "text/plain": [
       "VBox(children=(HBox(children=(Button(button_style='warning', description='stop', layout=Layout(align_self='cen…"
      ]
     },
     "metadata": {},
     "output_type": "display_data"
    },
    {
     "data": {
      "application/vnd.jupyter.widget-view+json": {
       "model_id": "47a7008b603e4ec0938252aec2a144b3",
       "version_major": 2,
       "version_minor": 0
      },
      "text/plain": [
       "VBox(children=(Label(value='Manual Mode'), HBox(children=(FloatSlider(value=0.0, description='Steering', layou…"
      ]
     },
     "metadata": {},
     "output_type": "display_data"
    },
    {
     "data": {
      "application/vnd.jupyter.widget-view+json": {
       "model_id": "a044eec95b30483db2a806a5b5a3cd7e",
       "version_major": 2,
       "version_minor": 0
      },
      "text/plain": [
       "VBox(children=(Label(value='Automatic Mode'), HBox(children=(VBox(children=(Label(value='Road Following Slider…"
      ]
     },
     "metadata": {},
     "output_type": "display_data"
    },
    {
     "data": {
      "application/vnd.jupyter.widget-view+json": {
       "model_id": "cee1315ac4784e348b8c1b4a2becbae4",
       "version_major": 2,
       "version_minor": 0
      },
      "text/plain": [
       "VBox(children=(HBox(children=(VBox(children=(Button(description='get Position', style=ButtonStyle()), FloatTex…"
      ]
     },
     "metadata": {},
     "output_type": "display_data"
    }
   ],
   "source": [
    "import time\n",
    "\n",
    "def stop(change):\n",
    "    robot.stop()\n",
    "    state_widget.value = 'Manu'\n",
    "    \n",
    "stop_button.on_click(stop)\n",
    "\n",
    "def kill(change):\n",
    "    robot.stop()\n",
    "    camera.stop()\n",
    "    \n",
    "kill_button.on_click(kill)\n",
    "        \n",
    "def auto_manu_changed(change):\n",
    "    if (state_widget.value == 'Manu'):\n",
    "        camera.unobserve(execute, names='value')\n",
    "        time.sleep(0.1)  # add a small sleep to make sure frames have finished processing\n",
    "        robot.stop()\n",
    "    elif (state_widget.value == 'Auto'):\n",
    "        camera.observe(execute, names='value')\n",
    "\n",
    "state_widget.observe(auto_manu_changed, 'value')\n",
    "\n",
    "display(buttons_box)\n",
    "display(manu_widgets)\n",
    "display(auto_widgets)\n",
    "display(map_display_widget)"
   ]
  },
  {
   "cell_type": "code",
   "execution_count": 18,
   "id": "orange-parameter",
   "metadata": {},
   "outputs": [
    {
     "data": {
      "application/vnd.jupyter.widget-view+json": {
       "model_id": "11df067db858401ca687952cb0905f14",
       "version_major": 2,
       "version_minor": 0
      },
      "text/plain": [
       "Controller(index=1)"
      ]
     },
     "metadata": {},
     "output_type": "display_data"
    }
   ],
   "source": [
    "controller = widgets.Controller(index=1)  # replace with index of your controller\n",
    "\n",
    "display(controller)"
   ]
  },
  {
   "cell_type": "code",
   "execution_count": 19,
   "id": "random-disco",
   "metadata": {},
   "outputs": [],
   "source": [
    "cont_steer_link = traitlets.dlink((controller.axes[0], 'value'), (robot, 'steering'))\n",
    "cont_throt_link = traitlets.dlink((controller.axes[3], 'value'), (robot, 'throttle'), transform=lambda x: -x)"
   ]
  },
  {
   "cell_type": "code",
   "execution_count": null,
   "id": "handed-brazilian",
   "metadata": {},
   "outputs": [],
   "source": []
  },
  {
   "cell_type": "code",
   "execution_count": null,
   "id": "respective-disposition",
   "metadata": {},
   "outputs": [],
   "source": []
  }
 ],
 "metadata": {
  "kernelspec": {
   "display_name": "Python 3",
   "language": "python",
   "name": "python3"
  },
  "language_info": {
   "codemirror_mode": {
    "name": "ipython",
    "version": 3
   },
   "file_extension": ".py",
   "mimetype": "text/x-python",
   "name": "python",
   "nbconvert_exporter": "python",
   "pygments_lexer": "ipython3",
   "version": "3.6.9"
  }
 },
 "nbformat": 4,
 "nbformat_minor": 5
}
