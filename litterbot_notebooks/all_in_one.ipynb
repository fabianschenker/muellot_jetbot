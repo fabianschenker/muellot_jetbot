{
 "cells": [
  {
   "cell_type": "markdown",
   "id": "suspected-block",
   "metadata": {},
   "source": [
    "# Litterbot\n",
    "\n",
    "Device von CPU auf GPU wechseln"
   ]
  },
  {
   "cell_type": "code",
   "execution_count": 1,
   "id": "israeli-fairy",
   "metadata": {},
   "outputs": [],
   "source": [
    "import torch\n",
    "device = torch.device('cuda')"
   ]
  },
  {
   "cell_type": "markdown",
   "id": "laden-extension",
   "metadata": {},
   "source": [
    "TRT optimierte Modelle laden.\n",
    "\n",
    "> WICHTIG: Modelle müssen zuerst mit den Notebooks zum Datensammeln und Trainieren erstellt werden. Die Modelle mit der Endung .pth müssen im gleichen Ordner sein, wie dieses Notebook"
   ]
  },
  {
   "cell_type": "code",
   "execution_count": 2,
   "id": "corporate-validation",
   "metadata": {},
   "outputs": [
    {
     "data": {
      "text/plain": [
       "<All keys matched successfully>"
      ]
     },
     "execution_count": 2,
     "metadata": {},
     "output_type": "execute_result"
    }
   ],
   "source": [
    "from torch2trt import TRTModule\n",
    "\n",
    "model_trt = TRTModule()\n",
    "model_trt.load_state_dict(torch.load('best_steering_model_xy_trt.pth')) # well trained road following model\n",
    "\n",
    "model_trt_collision = TRTModule()\n",
    "model_trt_collision.load_state_dict(torch.load('best_collision_model_trt.pth')) # well trained collision avoidance model"
   ]
  },
  {
   "cell_type": "markdown",
   "id": "vital-residence",
   "metadata": {},
   "source": [
    "### Pre-Processing Funktion\n",
    "1. Konvertieren von HWC-Layout zu CHW-Layout\n",
    "2. Normalisieren mit denselben Parametern wie beim Training (Kamera liefert Werte im Bereich [0, 255] und die beim Training geladenen Bilder im Bereich [0, 1], so dass um 255,0 skaliert werden muss.\n",
    "3. Übertragen der Daten vom CPU-Speicher in den GPU-Speicher.\n",
    "4. Hinzufügen einer Batch-Dimension"
   ]
  },
  {
   "cell_type": "code",
   "execution_count": 3,
   "id": "foster-apartment",
   "metadata": {},
   "outputs": [],
   "source": [
    "import torchvision.transforms as transforms\n",
    "import torch.nn.functional as F\n",
    "import cv2\n",
    "import PIL.Image\n",
    "import numpy as np\n",
    "\n",
    "mean = torch.Tensor([0.485, 0.456, 0.406]).cuda().half()\n",
    "std = torch.Tensor([0.229, 0.224, 0.225]).cuda().half()\n",
    "\n",
    "def preprocess(image):\n",
    "    image = PIL.Image.fromarray(image)\n",
    "    image = transforms.functional.to_tensor(image).to(device).half()\n",
    "    image.sub_(mean[:, None, None]).div_(std[:, None, None])\n",
    "    return image[None, ...]"
   ]
  },
  {
   "cell_type": "markdown",
   "id": "passive-oxide",
   "metadata": {},
   "source": [
    "Starten der Kamera und Erstellen der Roboter Instanz"
   ]
  },
  {
   "cell_type": "code",
   "execution_count": 4,
   "id": "alternate-soccer",
   "metadata": {},
   "outputs": [],
   "source": [
    "from jetbot import Camera, bgr8_to_jpeg\n",
    "import sys\n",
    "import os\n",
    "sys.path.append(os.path.abspath(\"/workspace/muellot_jetbot/jetbot\"))\n",
    "from robot2 import Robot2\n",
    "from gps_coord import GPS_coords\n",
    "\n",
    "camera = Camera.instance(width=224, height=224, fps=10)\n",
    "robot = Robot2()\n",
    "gps = GPS_coords()"
   ]
  },
  {
   "cell_type": "markdown",
   "id": "removed-strength",
   "metadata": {},
   "source": [
    "### Kontrollinterface für den Roboter"
   ]
  },
  {
   "cell_type": "code",
   "execution_count": 5,
   "id": "cosmetic-teacher",
   "metadata": {},
   "outputs": [],
   "source": [
    "from IPython.display import display\n",
    "import traitlets\n",
    "from IPython.display import display\n",
    "from ipywidgets import Layout, Label\n",
    "import ipywidgets.widgets as widgets"
   ]
  },
  {
   "cell_type": "code",
   "execution_count": 6,
   "id": "portable-headset",
   "metadata": {},
   "outputs": [],
   "source": [
    "pos_button = widgets.Button(description='get Position')\n",
    "lat_widget = widgets.FloatText(value=0.0, description='Latitude :', disabled=True)\n",
    "lon_widget = widgets.FloatText(value=0.0, description='Longitude:', disabled=True)\n",
    "\n",
    "def get_coords(change):\n",
    "    gps.get_pos()\n",
    "    lat_widget.value = gps.lat\n",
    "    lon_widget.value = gps.lon\n",
    "    \n",
    "pos_button.on_click(get_coords)"
   ]
  },
  {
   "cell_type": "code",
   "execution_count": 7,
   "id": "serious-mountain",
   "metadata": {},
   "outputs": [
    {
     "data": {
      "text/plain": [
       "<traitlets.traitlets.directional_link at 0x7ed0cbdac8>"
      ]
     },
     "execution_count": 7,
     "metadata": {},
     "output_type": "execute_result"
    }
   ],
   "source": [
    "image_widget = widgets.Image()\n",
    "traitlets.dlink((camera, 'value'), (image_widget, 'value'), transform=bgr8_to_jpeg)"
   ]
  },
  {
   "cell_type": "code",
   "execution_count": 8,
   "id": "several-edition",
   "metadata": {},
   "outputs": [],
   "source": [
    "button_layout = widgets.Layout(width='100px', height='80px', align_self='center')\n",
    "stop_button = widgets.Button(description='stop', button_style='danger', layout=button_layout)\n",
    "state_widget = widgets.ToggleButtons(options=['Manu', 'Auto'], description='Operation', value='Manu')"
   ]
  },
  {
   "cell_type": "code",
   "execution_count": 9,
   "id": "different-brief",
   "metadata": {},
   "outputs": [],
   "source": [
    "#Road Following sliders\n",
    "network_output_slider = widgets.FloatSlider(description='Network Output', min=-1.0, max=1.0, value=0, step=0.01, orientation='horizontal', disabled=False, layout={'width': '400px'})\n",
    "steering_gain_slider  = widgets.FloatSlider(description='Steering Gain', min=0.0, max=1.0, value=0.7, step=0.01, orientation='horizontal', layout={'width': '300px'})\n",
    "steering_dgain_slider = widgets.FloatSlider(description='Steering kd', min=0.0, max=0.5, step=0.001, value=0.06, orientation='horizontal', layout={'width': '300px'})\n",
    "steering_value_slider = widgets.FloatSlider(description='Steering', min=-1.0, max=1.0, value=0, step=0.01, orientation='horizontal', disabled=False, layout={'width': '400px'})\n",
    "throttle_slider = widgets.FloatSlider(description='Throttle', min=-1.0, max=1.0, value=0.0, step=0.01, orientation='vertical')\n",
    "\n",
    "#Collision Avoidance sliders\n",
    "blocked_slider = widgets.FloatSlider(description='Blocked', min=0.0, max=1.0, orientation='horizontal')\n",
    "stopduration_slider= widgets.IntSlider(description='Time for Stop', min=1, max=1000, step=1, value=10, orientation='horizontal') \n",
    "blocked_threshold= widgets.FloatSlider(description='Blocked Threshold', min=0, max=1.0, step=0.01, value=0.8, orientation='horizontal')"
   ]
  },
  {
   "cell_type": "code",
   "execution_count": 10,
   "id": "soviet-trailer",
   "metadata": {},
   "outputs": [],
   "source": [
    "steering_gain_link   = traitlets.link((steering_gain_slider, 'value'), (robot, 'steering_gain'))\n",
    "steering_value_link  = traitlets.link((steering_value_slider, 'value'), (robot, 'steering'))\n",
    "throttle_slider_link = traitlets.link((throttle_slider, 'value'), (robot, 'throttle'))"
   ]
  },
  {
   "cell_type": "code",
   "execution_count": 11,
   "id": "loose-blind",
   "metadata": {},
   "outputs": [],
   "source": [
    "lout=Layout(align_items='center', border='3px solid black', padding='3px')\n",
    "\n",
    "auto_widgets = widgets.VBox([Label('Automatic Mode'),\n",
    "    widgets.HBox([\n",
    "        widgets.VBox([Label('Road Following Sliders'),\n",
    "            network_output_slider,\n",
    "            steering_gain_slider,\n",
    "            steering_dgain_slider,\n",
    "            steering_value_slider], \n",
    "            layout = lout\n",
    "            ),\n",
    "        throttle_slider,\n",
    "        image_widget,\n",
    "        widgets.VBox([Label('Collision Avoidance Sliders'),\n",
    "            blocked_slider,\n",
    "            stopduration_slider,\n",
    "            blocked_threshold],\n",
    "            layout = lout)],\n",
    "    ),pos_button,lat_widget,lon_widget],layout = lout)\n",
    "\n",
    "manu_widgets = widgets.VBox([Label('Manual Mode'), \n",
    "                             widgets.HBox([\n",
    "                                steering_value_slider,\n",
    "                                throttle_slider,\n",
    "                                image_widget],\n",
    "                                layout = lout),\n",
    "                             pos_button,\n",
    "                             lat_widget,\n",
    "                             lon_widget],layout = lout) \n",
    "\n",
    "#display(auto_widgets)\n",
    "#display(manu_widgets)"
   ]
  },
  {
   "cell_type": "code",
   "execution_count": 12,
   "id": "lesbian-cooler",
   "metadata": {},
   "outputs": [],
   "source": [
    "import cv2\n",
    "import math\n",
    "\n",
    "angle = 0.0\n",
    "angle_last = 0.0\n",
    "count_stops = 0\n",
    "go_on = 1\n",
    "stop_time = 10 # The number of frames to remain stopped\n",
    "x = 0.0\n",
    "y = 0.0\n",
    "speed_value = throttle_slider.value\n",
    "\n",
    "def execute(change):\n",
    "    global angle, angle_last, blocked_slider, robot, count_stops, stop_time, go_on, x, y, blocked_threshold\n",
    "    global speed_value, steer_gain, steer_dgain, steer_bias\n",
    "                \n",
    "    steer_gain = steering_gain_slider.value\n",
    "    steer_dgain = steering_dgain_slider.value\n",
    "       \n",
    "    image_preproc = preprocess(change['new']).to(device)\n",
    "     \n",
    "    #Collision Avoidance model:\n",
    "    \n",
    "    prob_blocked = float(F.softmax(model_trt_collision(image_preproc), dim=1).flatten()[0])\n",
    "    \n",
    "    blocked_slider.value = prob_blocked    \n",
    "    stop_time=stopduration_slider.value\n",
    "    \n",
    "    if go_on == 1:    \n",
    "        if prob_blocked > blocked_threshold.value: # threshold should be above 0.5\n",
    "            count_stops += 1\n",
    "            go_on = 2\n",
    "        else:\n",
    "            #start of road following detection\n",
    "            go_on = 1\n",
    "            count_stops = 0\n",
    "            xy = model_trt(image_preproc).detach().float().cpu().numpy().flatten()        \n",
    "            x = xy[0]            \n",
    "            y = (0.5 - xy[1]) / 2.0\n",
    "            network_output_slider.value = x\n",
    "            speed_value = throttle_slider.value\n",
    "    else:\n",
    "        count_stops += 1\n",
    "        if count_stops < stop_time:\n",
    "            x = 0.0 #set x steering to zero\n",
    "            y = 0.0 #set y steering to zero\n",
    "            speed_value = 0 # set speed to zero\n",
    "        else:\n",
    "            go_on = 1\n",
    "            count_stops = 0\n",
    "            \n",
    "    \n",
    "    angle = math.atan2(x, y)        \n",
    "    pid = angle * steer_gain + (angle - angle_last) * steer_dgain\n",
    "    steering_value_slider.value = pid\n",
    "    angle_last = angle\n",
    "    robot.throttle = speed_value\n",
    "    robot.steering = max(min(steering_value_slider.value, 1.0), -1.0) \n",
    "\n",
    "execute({'new': camera.value}) # call the function once to initialize"
   ]
  },
  {
   "cell_type": "code",
   "execution_count": 13,
   "id": "understanding-infection",
   "metadata": {},
   "outputs": [
    {
     "data": {
      "application/vnd.jupyter.widget-view+json": {
       "model_id": "b99db0ab504c43a69999420c054f9f44",
       "version_major": 2,
       "version_minor": 0
      },
      "text/plain": [
       "Button(button_style='danger', description='stop', layout=Layout(align_self='center', height='80px', width='100…"
      ]
     },
     "metadata": {},
     "output_type": "display_data"
    },
    {
     "data": {
      "application/vnd.jupyter.widget-view+json": {
       "model_id": "586d26fafd4a4a42a4ca995b3a889079",
       "version_major": 2,
       "version_minor": 0
      },
      "text/plain": [
       "ToggleButtons(description='Operation', options=('Manu', 'Auto'), value='Manu')"
      ]
     },
     "metadata": {},
     "output_type": "display_data"
    },
    {
     "data": {
      "application/vnd.jupyter.widget-view+json": {
       "model_id": "8b9c1025ce364de2be971673fe0c1ec3",
       "version_major": 2,
       "version_minor": 0
      },
      "text/plain": [
       "VBox(children=(Label(value='Manual Mode'), HBox(children=(FloatSlider(value=1.0, description='Steering', layou…"
      ]
     },
     "metadata": {},
     "output_type": "display_data"
    },
    {
     "data": {
      "application/vnd.jupyter.widget-view+json": {
       "model_id": "fae68db4b99741428fbaa8c648f66abe",
       "version_major": 2,
       "version_minor": 0
      },
      "text/plain": [
       "VBox(children=(Label(value='Automatic Mode'), HBox(children=(VBox(children=(Label(value='Road Following Slider…"
      ]
     },
     "metadata": {},
     "output_type": "display_data"
    }
   ],
   "source": [
    "import time\n",
    "\n",
    "def stop(change):\n",
    "    robot.stop()\n",
    "    \n",
    "stop_button.on_click(stop)\n",
    "        \n",
    "def auto_manu_changed(change):\n",
    "    if (state_widget.value == 'Manu'):\n",
    "        camera.unobserve(execute, names='value')\n",
    "        time.sleep(0.1)  # add a small sleep to make sure frames have finished processing\n",
    "        robot.stop()\n",
    "    elif (state_widget.value == 'Auto'):\n",
    "        camera.observe(execute, names='value')\n",
    "\n",
    "state_widget.observe(auto_manu_changed, 'value')\n",
    "\n",
    "display(stop_button)\n",
    "display(state_widget)\n",
    "display(manu_widgets)\n",
    "display(auto_widgets)"
   ]
  },
  {
   "cell_type": "code",
   "execution_count": null,
   "id": "moral-chancellor",
   "metadata": {},
   "outputs": [],
   "source": [
    "# Kill"
   ]
  },
  {
   "cell_type": "code",
   "execution_count": 17,
   "id": "blocked-third",
   "metadata": {},
   "outputs": [],
   "source": [
    "camera.stop()"
   ]
  },
  {
   "cell_type": "code",
   "execution_count": null,
   "id": "united-western",
   "metadata": {},
   "outputs": [],
   "source": []
  },
  {
   "cell_type": "code",
   "execution_count": null,
   "id": "tested-reporter",
   "metadata": {},
   "outputs": [],
   "source": []
  }
 ],
 "metadata": {
  "kernelspec": {
   "display_name": "Python 3",
   "language": "python",
   "name": "python3"
  },
  "language_info": {
   "codemirror_mode": {
    "name": "ipython",
    "version": 3
   },
   "file_extension": ".py",
   "mimetype": "text/x-python",
   "name": "python",
   "nbconvert_exporter": "python",
   "pygments_lexer": "ipython3",
   "version": "3.6.9"
  }
 },
 "nbformat": 4,
 "nbformat_minor": 5
}
