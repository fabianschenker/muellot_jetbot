{
 "cells": [
  {
   "cell_type": "markdown",
   "source": [
    "Execute the following block of code by selecting it and clicking ctrl + enter to create an NvidiaRacecar class."
   ],
   "metadata": {
    "collapsed": false
   }
  },
  {
   "cell_type": "code",
   "execution_count": null,
   "outputs": [],
   "source": [
    "from jetbot import MyRobot\n",
    "\n",
    "car = MyRobot()"
   ],
   "metadata": {
    "collapsed": false
   }
  },
  {
   "cell_type": "markdown",
   "source": [
    "The MyRobot implements the MyMotors class, so it has two attributes throttle and steering.\n",
    "\n",
    "We can assign values in the range [-1, 1] to these attributes. Execute the following to set the steering to 0.4."
   ],
   "metadata": {
    "collapsed": false
   }
  },
  {
   "cell_type": "code",
   "execution_count": null,
   "outputs": [],
   "source": [
    "car.steering = 0.3"
   ],
   "metadata": {
    "collapsed": false
   }
  },
  {
   "cell_type": "markdown",
   "source": [
    "The NvidiaRacecar class has two values steering_gain and steering_bias that can be used to calibrate the steering.\n",
    "\n",
    "We can view the default values by executing the cells below."
   ],
   "metadata": {
    "collapsed": false
   }
  },
  {
   "cell_type": "code",
   "execution_count": null,
   "outputs": [],
   "source": [
    "print(car.steering_gain)"
   ],
   "metadata": {
    "collapsed": false
   }
  },
  {
   "cell_type": "code",
   "execution_count": null,
   "outputs": [],
   "source": [
    "print(car.steering_offset)"
   ],
   "metadata": {
    "collapsed": false
   }
  },
  {
   "cell_type": "markdown",
   "source": [
    "The final steering value is computed using the equation\n",
    "y = a * x + b\n",
    "Where,\n",
    "\n",
    "a is car.steering_gain\n",
    "b is car.steering_offset\n",
    "x is car.steering\n",
    "y is the value written to the motor driver\n",
    "You can adjust these values calibrate the car so that setting a value of 0 moves forward, and setting a value of 1 goes fully right, and -1 fully left.\n",
    "\n",
    "To set the throttle of the car to 0.2, you can call the following.\n",
    "\n",
    "Give JetRacer lots of space to move, and be ready on the manual override, JetRacer is fast"
   ],
   "metadata": {
    "collapsed": false
   }
  },
  {
   "cell_type": "code",
   "execution_count": null,
   "outputs": [],
   "source": [
    "car.throttle = 0.0"
   ],
   "metadata": {
    "collapsed": false
   }
  },
  {
   "cell_type": "markdown",
   "source": [
    "The throttle also has a gain value that could be used to control the speed response. The throttle output is computed as\n",
    "y = a * x\n",
    "Where,\n",
    "\n",
    "a is car.throttle_gain\n",
    "x is car.throttle\n",
    "y is the value written to the speed controller\n",
    "Execute the following to print the default gain"
   ],
   "metadata": {
    "collapsed": false
   }
  },
  {
   "cell_type": "code",
   "execution_count": null,
   "outputs": [],
   "source": [
    "print(car.throttle_gain)"
   ],
   "metadata": {
    "collapsed": false
   }
  },
  {
   "cell_type": "markdown",
   "source": [
    "Set the following to limit the throttle to half"
   ],
   "metadata": {
    "collapsed": false
   }
  },
  {
   "cell_type": "code",
   "execution_count": null,
   "outputs": [],
   "source": [
    "car.throttle_gain = 0.5"
   ],
   "metadata": {
    "collapsed": false
   }
  },
  {
   "cell_type": "markdown",
   "source": [
    "Please note the throttle is directly mapped to the RC car. When the car is stopped and a negative throttle is set, it will reverse. If the car is moving forward and a negative throttle is set, it will brake.\n",
    "\n",
    "That's it for this notebook!"
   ],
   "metadata": {
    "collapsed": false
   }
  }
 ],
 "metadata": {
  "kernelspec": {
   "display_name": "Python 3",
   "language": "python",
   "name": "python3"
  },
  "language_info": {
   "codemirror_mode": {
    "name": "ipython",
    "version": 3
   },
   "file_extension": ".py",
   "mimetype": "text/x-python",
   "name": "python",
   "nbconvert_exporter": "python",
   "pygments_lexer": "ipython3",
   "version": "3.6.7"
  }
 },
 "nbformat": 4,
 "nbformat_minor": 2
}
