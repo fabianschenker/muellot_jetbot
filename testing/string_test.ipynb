{
 "cells": [
  {
   "cell_type": "code",
   "execution_count": 14,
   "metadata": {},
   "outputs": [
    {
     "name": "stdout",
     "output_type": "stream",
     "text": [
      "sending\n",
      "OPEN\n",
      "WIN\n",
      "sending\n",
      "OPEN\n",
      "WIN\n",
      "sending\n",
      "OPEN\n"
     ]
    },
    {
     "ename": "KeyboardInterrupt",
     "evalue": "",
     "output_type": "error",
     "traceback": [
      "\u001b[0;31m\u001b[0m",
      "\u001b[0;31mKeyboardInterrupt\u001b[0mTraceback (most recent call last)",
      "\u001b[0;32m<ipython-input-14-cccf062c1c9d>\u001b[0m in \u001b[0;36m<module>\u001b[0;34m\u001b[0m\n\u001b[1;32m     28\u001b[0m     \u001b[0mprint\u001b[0m\u001b[0;34m(\u001b[0m\u001b[0;34m'OPEN'\u001b[0m\u001b[0;34m)\u001b[0m\u001b[0;34m;\u001b[0m\u001b[0;34m\u001b[0m\u001b[0;34m\u001b[0m\u001b[0m\n\u001b[1;32m     29\u001b[0m     \u001b[0mwriteData\u001b[0m\u001b[0;34m(\u001b[0m\u001b[0;34m\"OPEN-00-00\"\u001b[0m\u001b[0;34m)\u001b[0m\u001b[0;34m\u001b[0m\u001b[0;34m\u001b[0m\u001b[0m\n\u001b[0;32m---> 30\u001b[0;31m     \u001b[0mtime\u001b[0m\u001b[0;34m.\u001b[0m\u001b[0msleep\u001b[0m\u001b[0;34m(\u001b[0m\u001b[0;36m7\u001b[0m\u001b[0;34m)\u001b[0m\u001b[0;34m\u001b[0m\u001b[0;34m\u001b[0m\u001b[0m\n\u001b[0m\u001b[1;32m     31\u001b[0m \u001b[0;34m\u001b[0m\u001b[0m\n\u001b[1;32m     32\u001b[0m     \u001b[0mprint\u001b[0m\u001b[0;34m(\u001b[0m\u001b[0;34m'WIN'\u001b[0m\u001b[0;34m)\u001b[0m\u001b[0;34m;\u001b[0m\u001b[0;34m\u001b[0m\u001b[0;34m\u001b[0m\u001b[0m\n",
      "\u001b[0;31mKeyboardInterrupt\u001b[0m: "
     ]
    }
   ],
   "source": [
    "# -*- coding: utf-8 -*-\n",
    "import smbus\n",
    "import time\n",
    "# for RPI version 1, use bus = smbus.SMBus(0)\n",
    "bus = smbus.SMBus(1)\n",
    "\n",
    "# This is the address we setup in the Arduino Program\n",
    "address = 0x04\n",
    "\n",
    "#http://www.raspberry-projects.com/pi/programming-in-python/i2c-programming-in-python/using-the-i2c-interface-2\n",
    "def writeData(value):\n",
    "    byteValue = StringToBytes(value)    \n",
    "    bus.write_i2c_block_data(address,0x00,byteValue) #first byte is 0=command byte.. just is.\n",
    "    return -1\n",
    "\n",
    "\n",
    "def StringToBytes(val):\n",
    "        retVal = []\n",
    "        for c in val:\n",
    "                retVal.append(ord(c))\n",
    "        return retVal\n",
    "\n",
    "while True:\n",
    "    print(\"sending\")\n",
    "    writeData(\"test\")   \n",
    "    time.sleep(5)\n",
    "\n",
    "    print('OPEN');\n",
    "    writeData(\"OPEN-00-00\")\n",
    "    time.sleep(7)\n",
    "\n",
    "    print('WIN');\n",
    "    writeData(\"WIN-12-200\")\n",
    "    time.sleep(7)"
   ]
  },
  {
   "cell_type": "code",
   "execution_count": null,
   "metadata": {},
   "outputs": [],
   "source": []
  }
 ],
 "metadata": {
  "kernelspec": {
   "display_name": "Python 3",
   "language": "python",
   "name": "python3"
  },
  "language_info": {
   "codemirror_mode": {
    "name": "ipython",
    "version": 3
   },
   "file_extension": ".py",
   "mimetype": "text/x-python",
   "name": "python",
   "nbconvert_exporter": "python",
   "pygments_lexer": "ipython3",
   "version": "3.6.9"
  }
 },
 "nbformat": 4,
 "nbformat_minor": 4
}
