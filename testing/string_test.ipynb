{
 "cells": [
  {
   "cell_type": "code",
   "execution_count": null,
   "metadata": {
    "collapsed": true
   },
   "outputs": [],
   "source": [
    "import smbus\n",
    "\n",
    "# I2C-Adresse des Arduino\n",
    "arduino_address = 0x12\n",
    "\n",
    "# String zum Senden\n",
    "string_to_send = \"Hello Arduino!\"\n",
    "\n",
    "# Öffnen der I2C-Verbindung\n",
    "bus = smbus.SMBus(1)\n",
    "\n",
    "# Konvertieren des Strings in eine Liste von Bytes\n",
    "bytes_to_send = [ord(c) for c in string_to_send]\n",
    "\n",
    "# Senden des Strings über I2C\n",
    "bus.write_i2c_block_data(arduino_address, 0, bytes_to_send)\n",
    "\n",
    "# Schließen der I2C-Verbindung\n",
    "bus.close()"
   ]
  }
 ],
 "metadata": {
  "kernelspec": {
   "display_name": "Python 3",
   "language": "python",
   "name": "python3"
  },
  "language_info": {
   "codemirror_mode": {
    "name": "ipython",
    "version": 2
   },
   "file_extension": ".py",
   "mimetype": "text/x-python",
   "name": "python",
   "nbconvert_exporter": "python",
   "pygments_lexer": "ipython2",
   "version": "2.7.6"
  }
 },
 "nbformat": 4,
 "nbformat_minor": 0
}
