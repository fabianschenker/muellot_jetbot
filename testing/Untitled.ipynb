{
 "cells": [
  {
   "cell_type": "code",
   "execution_count": 1,
   "id": "earlier-spirituality",
   "metadata": {},
   "outputs": [
    {
     "name": "stdout",
     "output_type": "stream",
     "text": [
      "Cannot open camera\n",
      "Can't receive frame (stream end?). Exiting ...\n"
     ]
    }
   ],
   "source": [
    "import cv2\n",
    "import numpy as np\n",
    "\n",
    "# Setzen Sie die Auflösung der Kamera\n",
    "res = (640, 480)\n",
    "\n",
    "# Öffnen Sie den Video-Stream\n",
    "cap = cv2.VideoCapture(1)\n",
    "cap.set(cv2.CAP_PROP_FRAME_WIDTH, res[0])\n",
    "cap.set(cv2.CAP_PROP_FRAME_HEIGHT, res[1])\n",
    "\n",
    "# Überprüfen Sie, ob die Kamera erfolgreich geöffnet wurde\n",
    "if not cap.isOpened():\n",
    "    print(\"Cannot open camera\")\n",
    "    exit()\n",
    "\n",
    "# Lesen Sie die Frames aus dem Video-Stream\n",
    "while True:\n",
    "    ret, frame = cap.read()\n",
    "\n",
    "    if not ret:\n",
    "        print(\"Can't receive frame (stream end?). Exiting ...\")\n",
    "        break\n",
    "\n",
    "    # Zeigen Sie das Video-Stream-Fenster an\n",
    "    cv2.imshow('frame', frame)\n",
    "\n",
    "    # Drücken Sie 'q', um den Video-Stream zu beenden\n",
    "    if cv2.waitKey(1) == ord('q'):\n",
    "        break\n",
    "\n",
    "# Freigabe des Video-Streams und Schließen des Fensters\n",
    "cap.release()\n",
    "cv2.destroyAllWindows()\n"
   ]
  },
  {
   "cell_type": "code",
   "execution_count": 1,
   "id": "fundamental-space",
   "metadata": {},
   "outputs": [],
   "source": [
    "import cv2\n",
    "for i in range(10):\n",
    "    cap = cv2.VideoCapture(i)\n",
    "    if cap.isOpened():\n",
    "        print(f\"Camera ID is {i}\")\n",
    "    cap.release()\n",
    "    else:\n",
    "        print(\"Nothing found\")"
   ]
  },
  {
   "cell_type": "code",
   "execution_count": null,
   "id": "polar-retro",
   "metadata": {},
   "outputs": [],
   "source": []
  }
 ],
 "metadata": {
  "kernelspec": {
   "display_name": "Python 3",
   "language": "python",
   "name": "python3"
  },
  "language_info": {
   "codemirror_mode": {
    "name": "ipython",
    "version": 3
   },
   "file_extension": ".py",
   "mimetype": "text/x-python",
   "name": "python",
   "nbconvert_exporter": "python",
   "pygments_lexer": "ipython3",
   "version": "3.6.9"
  }
 },
 "nbformat": 4,
 "nbformat_minor": 5
}
