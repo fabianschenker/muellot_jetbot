{
 "cells": [
  {
   "cell_type": "code",
   "execution_count": 1,
   "id": "photographic-malaysia",
   "metadata": {},
   "outputs": [
    {
     "ename": "ModuleNotFoundError",
     "evalue": "No module named 'smbus'",
     "output_type": "error",
     "traceback": [
      "\u001B[1;31m---------------------------------------------------------------------------\u001B[0m",
      "\u001B[1;31mModuleNotFoundError\u001B[0m                       Traceback (most recent call last)",
      "Cell \u001B[1;32mIn[1], line 1\u001B[0m\n\u001B[1;32m----> 1\u001B[0m \u001B[38;5;28;01mimport\u001B[39;00m \u001B[38;5;21;01msmbus\u001B[39;00m\n\u001B[0;32m      2\u001B[0m \u001B[38;5;28;01mimport\u001B[39;00m \u001B[38;5;21;01mtime\u001B[39;00m\n\u001B[0;32m      3\u001B[0m \u001B[38;5;66;03m# Nvidia Jetson Nano i2c Bus 0\u001B[39;00m\n",
      "\u001B[1;31mModuleNotFoundError\u001B[0m: No module named 'smbus'"
     ]
    }
   ],
   "source": [
    "import smbus\n",
    "import time\n",
    "# Nvidia Jetson Nano i2c Bus 0\n",
    "bus = smbus.SMBus(1)\n",
    "\n",
    "# This is the address we setup in the Arduino Program\n",
    "address = 0x04\n",
    "\n",
    "def writeData(value):\n",
    "    byteValue = StringToBytes(value)\n",
    "    bus.write_i2c_block_data(address,0x00,byteValue) #first byte is 0=command byte.. just is.\n",
    "    return -1\n",
    "\n",
    "def StringToBytes(val):\n",
    "        retVal = []\n",
    "        for c in val:\n",
    "                retVal.append(ord(c))\n",
    "        return retVal\n",
    "\n",
    "def readNumber():\n",
    "    # number = bus.read_byte(address)\n",
    "    number = bus.read_byte_data(address, 1)\n",
    "    return number\n",
    "\n",
    "\n",
    "\n",
    "while True:\n",
    "    var = str(input(\"\"))\n",
    "    if not var:\n",
    "        continue\n",
    "\n",
    "    writeData(var)\n",
    "    number = readNumber()"
   ]
  },
  {
   "cell_type": "code",
   "execution_count": null,
   "id": "worth-resolution",
   "metadata": {},
   "outputs": [],
   "source": []
  }
 ],
 "metadata": {
  "kernelspec": {
   "display_name": "Python 3",
   "language": "python",
   "name": "python3"
  },
  "language_info": {
   "codemirror_mode": {
    "name": "ipython",
    "version": 3
   },
   "file_extension": ".py",
   "mimetype": "text/x-python",
   "name": "python",
   "nbconvert_exporter": "python",
   "pygments_lexer": "ipython3",
   "version": "3.6.9"
  }
 },
 "nbformat": 4,
 "nbformat_minor": 5
}
