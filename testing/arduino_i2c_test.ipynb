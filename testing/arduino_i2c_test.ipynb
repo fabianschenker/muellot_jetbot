{
 "cells": [
  {
   "cell_type": "code",
   "execution_count": null,
   "id": "photographic-malaysia",
   "metadata": {
    "pycharm": {
     "is_executing": true
    }
   },
   "outputs": [],
   "source": [
    "import smbus\n",
    "import time\n",
    "# Nvidia Jetson Nano i2c Bus 0\n",
    "bus = smbus.SMBus(1)\n",
    "\n",
    "# This is the address we setup in the Arduino Program\n",
    "address = 0x40\n",
    "\n",
    "def writeNumber(value):\n",
    "    bus.write_byte(address, value)\n",
    "    # bus.write_byte_data(address, 0, value)\n",
    "    return -1\n",
    "\n",
    "def readNumber():\n",
    "    number = bus.read_byte(address)\n",
    "    # number = bus.read_byte_data(address, 1)\n",
    "    return number\n",
    "\n",
    "while True:\n",
    "    var = str(input(\"\"))\n",
    "    if not var:\n",
    "        continue\n",
    "\n",
    "    writeNumber(var)\n",
    "    number = readNumber()"
   ]
  },
  {
   "cell_type": "code",
   "execution_count": null,
   "id": "worth-resolution",
   "metadata": {},
   "outputs": [],
   "source": []
  }
 ],
 "metadata": {
  "kernelspec": {
   "display_name": "Python 3",
   "language": "python",
   "name": "python3"
  },
  "language_info": {
   "codemirror_mode": {
    "name": "ipython",
    "version": 3
   },
   "file_extension": ".py",
   "mimetype": "text/x-python",
   "name": "python",
   "nbconvert_exporter": "python",
   "pygments_lexer": "ipython3",
   "version": "3.6.9"
  }
 },
 "nbformat": 4,
 "nbformat_minor": 5
}
