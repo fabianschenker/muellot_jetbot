{
 "cells": [
  {
   "cell_type": "code",
   "execution_count": 4,
   "id": "demonstrated-inspection",
   "metadata": {},
   "outputs": [
    {
     "name": "stdout",
     "output_type": "stream",
     "text": [
      "Received from Arduino: 47.52214813232422 and 8.244325637817383\n",
      "Received from Arduino: 47.52214813232422 and 8.244327545166016\n",
      "Received from Arduino: 47.522151947021484 and 8.244327545166016\n",
      "Received from Arduino: 47.522151947021484 and 8.244327545166016\n",
      "Received from Arduino: 47.522151947021484 and 8.244329452514648\n",
      "Received from Arduino: 47.52215576171875 and 8.244331359863281\n",
      "Received from Arduino: 47.52215576171875 and 8.244332313537598\n",
      "Received from Arduino: 47.52215576171875 and 8.244332313537598\n",
      "Received from Arduino: 47.52215576171875 and 8.24433422088623\n",
      "Received from Arduino: 47.52215576171875 and 8.244335174560547\n",
      "Received from Arduino: 47.52215576171875 and 8.244336128234863\n",
      "Received from Arduino: 47.522159576416016 and 8.24433708190918\n",
      "Received from Arduino: 47.522159576416016 and 8.24433708190918\n",
      "Received from Arduino: 47.522159576416016 and 8.24433708190918\n",
      "Received from Arduino: 47.52216339111328 and 8.24433708190918\n",
      "Received from Arduino: 47.52216339111328 and 8.244336128234863\n",
      "Received from Arduino: 47.52216720581055 and 8.24433422088623\n",
      "Received from Arduino: 47.52216720581055 and 8.24433422088623\n",
      "Received from Arduino: 47.52216720581055 and 8.244333267211914\n"
     ]
    },
    {
     "ename": "KeyboardInterrupt",
     "evalue": "",
     "output_type": "error",
     "traceback": [
      "\u001b[0;31m\u001b[0m",
      "\u001b[0;31mKeyboardInterrupt\u001b[0mTraceback (most recent call last)",
      "\u001b[0;32m<ipython-input-4-7fe72e79a69a>\u001b[0m in \u001b[0;36m<module>\u001b[0;34m\u001b[0m\n\u001b[1;32m     22\u001b[0m     \u001b[0mprint\u001b[0m\u001b[0;34m(\u001b[0m\u001b[0;34m\"Received from Arduino: {} and {}\"\u001b[0m\u001b[0;34m.\u001b[0m\u001b[0mformat\u001b[0m\u001b[0;34m(\u001b[0m\u001b[0mnum1\u001b[0m\u001b[0;34m,\u001b[0m \u001b[0mnum2\u001b[0m\u001b[0;34m)\u001b[0m\u001b[0;34m)\u001b[0m\u001b[0;34m\u001b[0m\u001b[0;34m\u001b[0m\u001b[0m\n\u001b[1;32m     23\u001b[0m     \u001b[0;31m# Wait for a second\u001b[0m\u001b[0;34m\u001b[0m\u001b[0;34m\u001b[0m\u001b[0;34m\u001b[0m\u001b[0m\n\u001b[0;32m---> 24\u001b[0;31m     \u001b[0mtime\u001b[0m\u001b[0;34m.\u001b[0m\u001b[0msleep\u001b[0m\u001b[0;34m(\u001b[0m\u001b[0;36m1\u001b[0m\u001b[0;34m)\u001b[0m\u001b[0;34m\u001b[0m\u001b[0;34m\u001b[0m\u001b[0m\n\u001b[0m",
      "\u001b[0;31mKeyboardInterrupt\u001b[0m: "
     ]
    }
   ],
   "source": [
    "import smbus2\n",
    "import time\n",
    "import struct\n",
    "\n",
    "# Define a function to convert a byte array to a float number\n",
    "def bytes_to_float(b):\n",
    "    return struct.unpack('f', b)[0]\n",
    "\n",
    "# Create an instance of the I2C bus\n",
    "bus = smbus2.SMBus(1)\n",
    "\n",
    "# Define the slave address\n",
    "address = 0x04\n",
    "\n",
    "while True:\n",
    "    # Request 8 bytes (2 floats) from the slave\n",
    "    data = bus.read_i2c_block_data(address, 0, 8)\n",
    "    # Convert the bytes to two float numbers\n",
    "    num1 = bytes_to_float(bytes(data[0:4]))\n",
    "    num2 = bytes_to_float(bytes(data[4:8]))\n",
    "    # Print the numbers\n",
    "    print(\"Received from Arduino: {} and {}\".format(num1, num2))\n",
    "    # Wait for 5 seconds\n",
    "    time.sleep(5)"
   ]
  },
  {
   "cell_type": "code",
   "execution_count": null,
   "id": "mental-telescope",
   "metadata": {},
   "outputs": [],
   "source": []
  },
  {
   "cell_type": "code",
   "execution_count": null,
   "id": "grateful-buffalo",
   "metadata": {},
   "outputs": [],
   "source": []
  }
 ],
 "metadata": {
  "kernelspec": {
   "display_name": "Python 3",
   "language": "python",
   "name": "python3"
  },
  "language_info": {
   "codemirror_mode": {
    "name": "ipython",
    "version": 3
   },
   "file_extension": ".py",
   "mimetype": "text/x-python",
   "name": "python",
   "nbconvert_exporter": "python",
   "pygments_lexer": "ipython3",
   "version": "3.6.9"
  }
 },
 "nbformat": 4,
 "nbformat_minor": 5
}
